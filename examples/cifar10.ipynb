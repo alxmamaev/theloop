{
 "cells": [
  {
   "cell_type": "code",
   "execution_count": 1,
   "metadata": {},
   "outputs": [],
   "source": [
    "from theloop import TheLoop\n",
    "\n",
    "import torch\n",
    "from torch.nn import functional as F\n",
    "from torchvision.datasets import MNIST, CIFAR10\n",
    "import torchvision.models as models\n",
    "import torchvision.transforms as transforms\n",
    "from tqdm import tqdm, tqdm_notebook\n",
    "from sklearn.metrics import accuracy_score"
   ]
  },
  {
   "cell_type": "code",
   "execution_count": 2,
   "metadata": {},
   "outputs": [],
   "source": [
    "def batch_callback(state):\n",
    "    model = state.model\n",
    "    batch = state.batch\n",
    "    device = state.device\n",
    "    criterion = state.criterion\n",
    "\n",
    "    out = model(batch[0].to(device))\n",
    "    state.loss = criterion(out, batch[1].to(device))"
   ]
  },
  {
   "cell_type": "code",
   "execution_count": 3,
   "metadata": {},
   "outputs": [],
   "source": [
    "def val_callback(state):\n",
    "    model = state.model\n",
    "    dloader = state.data\n",
    "    device = state.device\n",
    "    \n",
    "    predict = []\n",
    "    ground_truth = []\n",
    "\n",
    "    for batch in dloader:\n",
    "        with torch.no_grad():\n",
    "            out = F.softmax(model(batch[0].to(device)).cpu(), dim=1)\n",
    "            pred = torch.argmax(out, dim=1)\n",
    "\n",
    "        predict += pred.tolist()\n",
    "        ground_truth += batch[1].tolist()\n",
    "\n",
    "    accuracy = accuracy_score(predict, ground_truth)\n",
    "    state.set_metric(\"accuracy\", accuracy)"
   ]
  },
  {
   "cell_type": "code",
   "execution_count": 4,
   "metadata": {},
   "outputs": [
    {
     "name": "stdout",
     "output_type": "stream",
     "text": [
      "Files already downloaded and verified\n",
      "Files already downloaded and verified\n"
     ]
    }
   ],
   "source": [
    "trans = transforms.Compose([transforms.ToTensor(), transforms.Normalize((0.5,), (1.0,))])\n",
    "train_set = CIFAR10(root=\"./\", train=True, transform=trans, download=True)\n",
    "test_set = CIFAR10(root=\"./\", train=False, transform=trans, download=True)\n",
    "\n",
    "model = models.squeezenet1_0(pretrained=True)"
   ]
  },
  {
   "cell_type": "code",
   "execution_count": 5,
   "metadata": {},
   "outputs": [],
   "source": [
    "theloop = TheLoop(model, \"CrossEntropyLoss\", batch_callback,\n",
    "                  val_callback=val_callback,\n",
    "                  optimizer_params={\"lr\": 1e-4},\n",
    "                  logdir=\"./logdir\",\n",
    "                  val_rate=1000,\n",
    "                  device=\"cpu\",\n",
    "                  val_criterion_key=\"accuracy\")"
   ]
  },
  {
   "cell_type": "code",
   "execution_count": null,
   "metadata": {
    "scrolled": false
   },
   "outputs": [
    {
     "name": "stdout",
     "output_type": "stream",
     "text": [
      "   _____ _______       _____ _______   _______ _    _ ______ _      ____   ____  _____\n",
      "  / ____|__   __|/\\   |  __ \\__   __| |__   __| |  | |  ____| |    / __ \\ / __ \\|  __ \\\n",
      " | (___    | |  /  \\  | |__) | | |       | |  | |__| | |__  | |   | |  | | |  | | |__) |\n",
      "  \\___ \\   | | / /\\ \\ |  _  /  | |       | |  |  __  |  __| | |   | |  | | |  | |  ___/\n",
      "  ____) |  | |/ ____ \\| | \\ \\  | |       | |  | |  | | |____| |___| |__| | |__| | |\n",
      " |_____/   |_/_/    \\_\\_|  \\_\\ |_|       |_|  |_|  |_|______|______\\____/ \\____/|_|\n",
      "\n",
      "\n",
      "EXPERIMENT NAME: experiment\n",
      "EXPERIMENT ID: 2766\n",
      "NUM EPOCH: 2\n",
      "+-+-+-+-+-+-+-+-+-+-+-+-+-+-+-+-+-+-+-+-+-+-+-+-+-+-+-+-+-+-+-+-+-+-+-+-+-+-+-+-+-+-+-+-+\n",
      "\n",
      "\n",
      "  |￣￣￣￣￣￣|\n",
      "    EPOCH: 0  \n",
      "  |＿＿＿＿＿＿|\n",
      "(\\__/) || \n",
      "(•ㅅ•) || \n",
      "/ 　 づ\n"
     ]
    },
    {
     "data": {
      "application/vnd.jupyter.widget-view+json": {
       "model_id": "cb68c73d90bb49ddaf5a4518f61be7c1",
       "version_major": 2,
       "version_minor": 0
      },
      "text/plain": [
       "HBox(children=(IntProgress(value=0, max=1563), HTML(value='')))"
      ]
     },
     "metadata": {},
     "output_type": "display_data"
    }
   ],
   "source": [
    "model = theloop.a(train_set, test_set, n_epoch=2)"
   ]
  },
  {
   "cell_type": "code",
   "execution_count": null,
   "metadata": {},
   "outputs": [],
   "source": [
    "import theloop"
   ]
  },
  {
   "cell_type": "code",
   "execution_count": null,
   "metadata": {},
   "outputs": [],
   "source": [
    "?theloop.states.BatchState"
   ]
  },
  {
   "cell_type": "code",
   "execution_count": null,
   "metadata": {},
   "outputs": [],
   "source": []
  }
 ],
 "metadata": {
  "kernelspec": {
   "display_name": "Python 3",
   "language": "python",
   "name": "python3"
  },
  "language_info": {
   "codemirror_mode": {
    "name": "ipython",
    "version": 3
   },
   "file_extension": ".py",
   "mimetype": "text/x-python",
   "name": "python",
   "nbconvert_exporter": "python",
   "pygments_lexer": "ipython3",
   "version": "3.7.3"
  }
 },
 "nbformat": 4,
 "nbformat_minor": 2
}
