{
 "cells": [
  {
   "cell_type": "code",
   "execution_count": 1,
   "metadata": {},
   "outputs": [],
   "source": [
    "from theloop import TheLoop\n",
    "\n",
    "import torch\n",
    "from torch.nn import functional as F\n",
    "from torchvision.datasets import MNIST, CIFAR10\n",
    "import torchvision.models as models\n",
    "import torchvision.transforms as transforms\n",
    "from tqdm import tqdm, tqdm_notebook\n",
    "from sklearn.metrics import accuracy_score"
   ]
  },
  {
   "cell_type": "code",
   "execution_count": 2,
   "metadata": {},
   "outputs": [],
   "source": [
    "def batch_callback(**kwargs):\n",
    "    model, batch, device, criterion = kwargs[\"model\"], kwargs[\"batch\"], kwargs[\"device\"], kwargs[\"criterion\"]\n",
    "\n",
    "    out = model(batch[0].to(device))\n",
    "    loss = criterion(out, batch[1].to(device))\n",
    "\n",
    "    return {\"loss\": loss}"
   ]
  },
  {
   "cell_type": "code",
   "execution_count": 3,
   "metadata": {},
   "outputs": [],
   "source": [
    "def val_callback(**kwargs):\n",
    "    model, dloader, device = kwargs[\"model\"], kwargs[\"data\"], kwargs[\"device\"]\n",
    "\n",
    "    predict = []\n",
    "    ground_truth = []\n",
    "\n",
    "    for batch in tqdm_notebook(dloader):\n",
    "        with torch.no_grad():\n",
    "            out = F.softmax(model(batch[0].to(device)).cpu(), dim=1)\n",
    "            pred = torch.argmax(out, dim=1)\n",
    "\n",
    "        predict += pred.tolist()\n",
    "        ground_truth += batch[1].tolist()\n",
    "\n",
    "    accuracy = accuracy_score(predict, ground_truth)\n",
    "\n",
    "    return {\"accuracy\": accuracy}"
   ]
  },
  {
   "cell_type": "code",
   "execution_count": 4,
   "metadata": {},
   "outputs": [
    {
     "name": "stdout",
     "output_type": "stream",
     "text": [
      "Files already downloaded and verified\n",
      "Files already downloaded and verified\n"
     ]
    }
   ],
   "source": [
    "trans = transforms.Compose([transforms.ToTensor(), transforms.Normalize((0.5,), (1.0,))])\n",
    "train_set = CIFAR10(root=\"./\", train=True, transform=trans, download=True)\n",
    "test_set = CIFAR10(root=\"./\", train=False, transform=trans, download=True)\n",
    "\n",
    "resnet18 = models.squeezenet1_0(pretrained=True)"
   ]
  },
  {
   "cell_type": "code",
   "execution_count": 5,
   "metadata": {},
   "outputs": [],
   "source": [
    "theloop = TheLoop(resnet18, \"CrossEntropyLoss\", batch_callback,\n",
    "                  val_callback=val_callback,\n",
    "                  optimizer_params={\"lr\": 1e-4},\n",
    "                  logdir=\"./logdir\",\n",
    "                  val_rate=1000,\n",
    "                  device=\"cpu\",\n",
    "                  val_criterion_key=\"accuracy\",\n",
    "                  using_tqdm_notebook=True)"
   ]
  },
  {
   "cell_type": "code",
   "execution_count": null,
   "metadata": {
    "scrolled": false
   },
   "outputs": [
    {
     "name": "stdout",
     "output_type": "stream",
     "text": [
      "=====================\n",
      "||STARTING THE LOOP||\n",
      "=====================\n",
      "\n",
      "\n",
      "  |￣￣￣￣￣￣|\n",
      "  |  EPOCH: 0  |\n",
      "  |＿＿＿＿＿＿|\n",
      "(\\__/) || \n",
      "(•ㅅ•) || \n",
      "/ 　 づ\n"
     ]
    },
    {
     "data": {
      "application/vnd.jupyter.widget-view+json": {
       "model_id": "143177e0e8bc4edfa77aad57f8ae1efe",
       "version_major": 2,
       "version_minor": 0
      },
      "text/plain": [
       "HBox(children=(IntProgress(value=0, max=1563), HTML(value='')))"
      ]
     },
     "metadata": {},
     "output_type": "display_data"
    },
    {
     "name": "stdout",
     "output_type": "stream",
     "text": [
      "Starting validation...\n"
     ]
    },
    {
     "data": {
      "application/vnd.jupyter.widget-view+json": {
       "model_id": "62cd15fdfeb74c7c9bfe5d0ed7ae7bc5",
       "version_major": 2,
       "version_minor": 0
      },
      "text/plain": [
       "HBox(children=(IntProgress(value=0, max=313), HTML(value='')))"
      ]
     },
     "metadata": {},
     "output_type": "display_data"
    },
    {
     "name": "stdout",
     "output_type": "stream",
     "text": [
      "Validation ready!\n",
      "Checkpoint saved\n",
      "Starting validation...\n"
     ]
    },
    {
     "data": {
      "application/vnd.jupyter.widget-view+json": {
       "model_id": "2495973c106f4404a85622924e214551",
       "version_major": 2,
       "version_minor": 0
      },
      "text/plain": [
       "HBox(children=(IntProgress(value=0, max=313), HTML(value='')))"
      ]
     },
     "metadata": {},
     "output_type": "display_data"
    },
    {
     "name": "stdout",
     "output_type": "stream",
     "text": [
      "Validation ready!\n",
      "Checkpoint saved\n"
     ]
    }
   ],
   "source": [
    "resnet18 = theloop.a(train_set, test_set, n_epoch=1)"
   ]
  },
  {
   "cell_type": "code",
   "execution_count": null,
   "metadata": {},
   "outputs": [],
   "source": []
  }
 ],
 "metadata": {
  "kernelspec": {
   "display_name": "Python 3",
   "language": "python",
   "name": "python3"
  },
  "language_info": {
   "codemirror_mode": {
    "name": "ipython",
    "version": 3
   },
   "file_extension": ".py",
   "mimetype": "text/x-python",
   "name": "python",
   "nbconvert_exporter": "python",
   "pygments_lexer": "ipython3",
   "version": "3.7.1"
  }
 },
 "nbformat": 4,
 "nbformat_minor": 2
}
