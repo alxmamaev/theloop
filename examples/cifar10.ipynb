{
 "cells": [
  {
   "cell_type": "code",
   "execution_count": 1,
   "metadata": {},
   "outputs": [],
   "source": [
    "from theloop import TheLoop\n",
    "\n",
    "import torch\n",
    "from torch.nn import functional as F\n",
    "from torchvision.datasets import MNIST, CIFAR10\n",
    "import torchvision.models as models\n",
    "import torchvision.transforms as transforms\n",
    "from tqdm import tqdm, tqdm_notebook\n",
    "from sklearn.metrics import accuracy_score"
   ]
  },
  {
   "cell_type": "code",
   "execution_count": 2,
   "metadata": {},
   "outputs": [],
   "source": [
    "def batch_callback(**kwargs):\n",
    "    model, batch, device, criterion = kwargs[\"model\"], kwargs[\"batch\"], kwargs[\"device\"], kwargs[\"criterion\"]\n",
    "\n",
    "    out = model(batch[0].to(device))\n",
    "    loss = criterion(out, batch[1].to(device))\n",
    "\n",
    "    return {\"loss\": loss}"
   ]
  },
  {
   "cell_type": "code",
   "execution_count": 3,
   "metadata": {},
   "outputs": [],
   "source": [
    "def val_callback(**kwargs):\n",
    "    model, dloader, device = kwargs[\"model\"], kwargs[\"data\"], kwargs[\"device\"]\n",
    "\n",
    "    predict = []\n",
    "    ground_truth = []\n",
    "\n",
    "    for batch in dloader:\n",
    "        with torch.no_grad():\n",
    "            out = F.softmax(model(batch[0].to(device)).cpu(), dim=1)\n",
    "            pred = torch.argmax(out, dim=1)\n",
    "\n",
    "        predict += pred.tolist()\n",
    "        ground_truth += batch[1].tolist()\n",
    "\n",
    "    accuracy = accuracy_score(predict, ground_truth)\n",
    "\n",
    "    return {\"accuracy\": accuracy}"
   ]
  },
  {
   "cell_type": "code",
   "execution_count": 4,
   "metadata": {},
   "outputs": [
    {
     "name": "stdout",
     "output_type": "stream",
     "text": [
      "Files already downloaded and verified\n",
      "Files already downloaded and verified\n"
     ]
    }
   ],
   "source": [
    "trans = transforms.Compose([transforms.ToTensor(), transforms.Normalize((0.5,), (1.0,))])\n",
    "train_set = CIFAR10(root=\"./\", train=True, transform=trans, download=True)\n",
    "test_set = CIFAR10(root=\"./\", train=False, transform=trans, download=True)\n",
    "\n",
    "model = models.squeezenet1_0(pretrained=True)"
   ]
  },
  {
   "cell_type": "code",
   "execution_count": 5,
   "metadata": {},
   "outputs": [],
   "source": [
    "theloop = TheLoop(model, \"CrossEntropyLoss\", batch_callback,\n",
    "                  val_callback=val_callback,\n",
    "                  optimizer_params={\"lr\": 1e-4},\n",
    "                  logdir=\"./logdir\",\n",
    "                  val_rate=1000,\n",
    "                  device=\"cpu\",\n",
    "                  val_criterion_key=\"accuracy\",\n",
    "                  using_tqdm_notebook=False)"
   ]
  },
  {
   "cell_type": "code",
   "execution_count": 6,
   "metadata": {
    "scrolled": false
   },
   "outputs": [
    {
     "name": "stderr",
     "output_type": "stream",
     "text": [
      "\r",
      "  0%|          | 0/1563 [00:00<?, ?it/s]"
     ]
    },
    {
     "name": "stdout",
     "output_type": "stream",
     "text": [
      "=====================\n",
      "||STARTING THE LOOP||\n",
      "=====================\n",
      "\n",
      "\n",
      "  |￣￣￣￣￣￣|\n",
      "  |  EPOCH: 0  |\n",
      "  |＿＿＿＿＿＿|\n",
      "(\\__/) || \n",
      "(•ㅅ•) || \n",
      "/ 　 づ\n"
     ]
    },
    {
     "name": "stderr",
     "output_type": "stream",
     "text": [
      "BATCH 0; ITER 0:   0%|          | 0/1563 [00:00<?, ?it/s, loss=44.8]"
     ]
    },
    {
     "name": "stdout",
     "output_type": "stream",
     "text": [
      "Starting validation...\n"
     ]
    },
    {
     "name": "stderr",
     "output_type": "stream",
     "text": [
      "BATCH 1; ITER 1:   0%|          | 2/1563 [00:13<3:58:11,  9.16s/it, loss=36.9]"
     ]
    },
    {
     "name": "stdout",
     "output_type": "stream",
     "text": [
      "Validation ready!\n"
     ]
    },
    {
     "name": "stderr",
     "output_type": "stream",
     "text": [
      "BATCH 1000; ITER 1000:  64%|██████▍   | 1000/1563 [02:13<01:14,  7.60it/s, loss=1.44]"
     ]
    },
    {
     "name": "stdout",
     "output_type": "stream",
     "text": [
      "Starting validation...\n"
     ]
    },
    {
     "name": "stderr",
     "output_type": "stream",
     "text": [
      "BATCH 1001; ITER 1001:  64%|██████▍   | 1002/1563 [02:25<25:49,  2.76s/it, loss=2.09]"
     ]
    },
    {
     "name": "stdout",
     "output_type": "stream",
     "text": [
      "Validation ready!\n"
     ]
    },
    {
     "name": "stderr",
     "output_type": "stream",
     "text": [
      "BATCH 1562; ITER 1562: 100%|██████████| 1563/1563 [03:36<00:00,  7.21it/s, loss=1.46] \n",
      "  0%|          | 0/1563 [00:00<?, ?it/s]"
     ]
    },
    {
     "name": "stdout",
     "output_type": "stream",
     "text": [
      "Save epoch checkpoint\n",
      "===================================\n",
      "\n",
      "\n",
      "  |￣￣￣￣￣￣|\n",
      "  |  EPOCH: 1  |\n",
      "  |＿＿＿＿＿＿|\n",
      "(\\__/) || \n",
      "(•ㅅ•) || \n",
      "/ 　 づ\n"
     ]
    },
    {
     "name": "stderr",
     "output_type": "stream",
     "text": [
      "BATCH 437; ITER 2000:  28%|██▊       | 437/1563 [00:55<02:24,  7.82it/s, loss=1.37] "
     ]
    },
    {
     "name": "stdout",
     "output_type": "stream",
     "text": [
      "Starting validation...\n"
     ]
    },
    {
     "name": "stderr",
     "output_type": "stream",
     "text": [
      "BATCH 438; ITER 2001:  28%|██▊       | 439/1563 [01:08<50:15,  2.68s/it, loss=0.98]  "
     ]
    },
    {
     "name": "stdout",
     "output_type": "stream",
     "text": [
      "Validation ready!\n"
     ]
    },
    {
     "name": "stderr",
     "output_type": "stream",
     "text": [
      "BATCH 1437; ITER 3000:  92%|█████████▏| 1437/1563 [03:12<00:15,  8.08it/s, loss=1.03] "
     ]
    },
    {
     "name": "stdout",
     "output_type": "stream",
     "text": [
      "Starting validation...\n"
     ]
    },
    {
     "name": "stderr",
     "output_type": "stream",
     "text": [
      "BATCH 1438; ITER 3001:  92%|█████████▏| 1439/1563 [03:24<05:34,  2.70s/it, loss=1.45]"
     ]
    },
    {
     "name": "stdout",
     "output_type": "stream",
     "text": [
      "Validation ready!\n"
     ]
    },
    {
     "name": "stderr",
     "output_type": "stream",
     "text": [
      "BATCH 1562; ITER 3125: 100%|█████████▉| 1562/1563 [03:39<00:00,  8.21it/s, loss=0.981]"
     ]
    },
    {
     "name": "stdout",
     "output_type": "stream",
     "text": [
      "Starting validation...\n"
     ]
    },
    {
     "name": "stderr",
     "output_type": "stream",
     "text": [
      "\r",
      "BATCH 1562; ITER 3125: 100%|██████████| 1563/1563 [03:52<00:00,  3.74s/it, loss=0.981]"
     ]
    },
    {
     "name": "stdout",
     "output_type": "stream",
     "text": [
      "Validation ready!\n",
      "Save epoch checkpoint\n",
      "===================================\n",
      "\n",
      "\n",
      "\n",
      "\n",
      "BEST METRICS\n",
      "==================\n",
      "|| Best checkpoint score: 0.6856\n",
      "|| accuracy: 0.6856\n",
      "==================\n"
     ]
    },
    {
     "name": "stderr",
     "output_type": "stream",
     "text": [
      "\n"
     ]
    }
   ],
   "source": [
    "model = theloop.a(train_set, test_set, n_epoch=2)"
   ]
  }
 ],
 "metadata": {
  "kernelspec": {
   "display_name": "Python 3",
   "language": "python",
   "name": "python3"
  },
  "language_info": {
   "codemirror_mode": {
    "name": "ipython",
    "version": 3
   },
   "file_extension": ".py",
   "mimetype": "text/x-python",
   "name": "python",
   "nbconvert_exporter": "python",
   "pygments_lexer": "ipython3",
   "version": "3.7.1"
  }
 },
 "nbformat": 4,
 "nbformat_minor": 2
}
